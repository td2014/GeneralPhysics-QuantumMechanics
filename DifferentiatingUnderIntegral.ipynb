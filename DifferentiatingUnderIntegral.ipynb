{
 "cells": [
  {
   "cell_type": "markdown",
   "metadata": {},
   "source": [
    "# Differentiation under the integral sign"
   ]
  },
  {
   "cell_type": "markdown",
   "metadata": {},
   "source": [
    "Here we work through a few examples of differentiation under the integral sign, in order to evaluate some definite integrals.  Based on the discussion on the Wikipedia page: https://en.wikipedia.org/wiki/Leibniz_integral_rule#Measure_theory_statement"
   ]
  },
  {
   "cell_type": "markdown",
   "metadata": {},
   "source": [
    "### (1)"
   ]
  },
  {
   "cell_type": "markdown",
   "metadata": {},
   "source": [
    "Let's begin with the following:"
   ]
  },
  {
   "cell_type": "markdown",
   "metadata": {},
   "source": [
    "\\begin{equation}\n",
    "I = \\int_{0}^{\\infty}\\frac{\\sin{x}}{x}dx\n",
    "\\end{equation}"
   ]
  },
  {
   "cell_type": "markdown",
   "metadata": {},
   "source": [
    "We substitute a parameter as follows:"
   ]
  },
  {
   "cell_type": "markdown",
   "metadata": {},
   "source": [
    "\\begin{equation}\n",
    "J = \\int_{0}^{\\infty}e^{-\\alpha x}\\frac{\\sin{x}}{x}dx\n",
    "\\end{equation}"
   ]
  },
  {
   "cell_type": "markdown",
   "metadata": {},
   "source": [
    "Next we differentiate with respect to $\\alpha$"
   ]
  },
  {
   "cell_type": "markdown",
   "metadata": {},
   "source": [
    "\\begin{equation}\n",
    "\\int_{0}^{\\infty}-x e^{-\\alpha x}\\frac{\\sin{x}}{x}dx\n",
    "\\end{equation}"
   ]
  },
  {
   "cell_type": "markdown",
   "metadata": {},
   "source": [
    "which leads to"
   ]
  },
  {
   "cell_type": "markdown",
   "metadata": {},
   "source": [
    "\\begin{equation}\n",
    "-\\int_{0}^{\\infty}e^{-\\alpha x} \\sin{x} dx\n",
    "\\end{equation}"
   ]
  },
  {
   "cell_type": "markdown",
   "metadata": {},
   "source": [
    "The antiderivative is"
   ]
  },
  {
   "cell_type": "markdown",
   "metadata": {},
   "source": [
    "\\begin{equation}\n",
    "\\frac{e^{-\\alpha x} \\left( \\alpha \\sin \\left( x \\right) + \\cos \\left( x \\right ) \\right )}{\\alpha^{2} + 1 }\n",
    "\\end{equation}"
   ]
  },
  {
   "cell_type": "markdown",
   "metadata": {},
   "source": [
    "For $\\alpha > 0$ we have, after inserting the limits of integration, the result"
   ]
  },
  {
   "cell_type": "markdown",
   "metadata": {},
   "source": [
    "\\begin{equation}\n",
    "-\\frac{1}{\\alpha^{2}+1}\n",
    "\\end{equation}"
   ]
  },
  {
   "cell_type": "markdown",
   "metadata": {},
   "source": [
    "The integral with respect to $\\alpha$ is"
   ]
  },
  {
   "cell_type": "markdown",
   "metadata": {},
   "source": [
    "\\begin{equation}\n",
    "-\\arctan(\\alpha) + C\n",
    "\\end{equation}"
   ]
  },
  {
   "cell_type": "markdown",
   "metadata": {},
   "source": [
    "If $\\alpha$ is $\\infty$ then $C=\\frac{\\pi}{2}$, because the original integral, $J=0$ (irrespective of $x$) so the final result is"
   ]
  },
  {
   "cell_type": "markdown",
   "metadata": {},
   "source": [
    "\\begin{equation}\n",
    "-\\arctan(\\alpha) + \\frac{\\pi}{2}\n",
    "\\end{equation}"
   ]
  },
  {
   "cell_type": "markdown",
   "metadata": {},
   "source": [
    "If we let $\\alpha$ approach $0$, we approach the original integral, $I$, with answer"
   ]
  },
  {
   "cell_type": "markdown",
   "metadata": {},
   "source": [
    "\\begin{equation}\n",
    "I \\approx \\frac{\\pi}{2}\n",
    "\\end{equation}"
   ]
  },
  {
   "cell_type": "markdown",
   "metadata": {},
   "source": [
    "Some additional analysis needs to be done to show equality, because in the derivation steps above, it was assumed that $\\alpha > 0$."
   ]
  },
  {
   "cell_type": "markdown",
   "metadata": {},
   "source": [
    "### (2)"
   ]
  },
  {
   "cell_type": "markdown",
   "metadata": {},
   "source": [
    "Let's try this one:"
   ]
  },
  {
   "cell_type": "markdown",
   "metadata": {},
   "source": [
    "\\begin{equation}\n",
    "I = \\int_{0}^{\\pi/2}\\frac{x}{\\tan {x}} dx\n",
    "\\end{equation}"
   ]
  },
  {
   "cell_type": "markdown",
   "metadata": {},
   "source": [
    "with the substitution that yields"
   ]
  },
  {
   "cell_type": "markdown",
   "metadata": {},
   "source": [
    "\\begin{equation}\n",
    "J = \\int_{0}^{\\pi/2}\\frac{\\arctan{\\left ( \\alpha \\tan {x} \\right )}}{\\tan {x}} dx\n",
    "\\end{equation}"
   ]
  },
  {
   "cell_type": "markdown",
   "metadata": {},
   "source": [
    "Note, the idea is to substitute an expression such that the derivative yields a term that cancels the denominator."
   ]
  },
  {
   "cell_type": "markdown",
   "metadata": {},
   "source": [
    "Differentiating $J$ with respect to $\\alpha$"
   ]
  },
  {
   "cell_type": "markdown",
   "metadata": {},
   "source": [
    "\\begin{equation}\n",
    "\\frac{dJ}{d\\alpha} = \\int_{0}^{\\pi/2} \\frac{\\tan {x}} {1+{\\left ( \\alpha \\tan {x} \\right )}^{2}\\tan{x}} dx\n",
    "\\end{equation}"
   ]
  },
  {
   "cell_type": "markdown",
   "metadata": {},
   "source": [
    "which simplifies to"
   ]
  },
  {
   "cell_type": "markdown",
   "metadata": {},
   "source": [
    "\\begin{equation}\n",
    "\\frac{dJ}{d\\alpha} = \\int_{0}^{\\pi/2} \\frac{1} {1+{\\left ( \\alpha \\tan {x} \\right )}^{2}} dx\n",
    "\\end{equation}"
   ]
  },
  {
   "cell_type": "markdown",
   "metadata": {},
   "source": [
    "The antiderivative is"
   ]
  },
  {
   "cell_type": "markdown",
   "metadata": {},
   "source": [
    "\\begin{equation}\n",
    "\\frac{\\alpha \\arctan {\\left( \\alpha \\tan {x} \\right) } - \\arctan {\\left( \\tan {x} \\right) } } {\\alpha^{2}-1}\n",
    "\\end{equation}"
   ]
  },
  {
   "cell_type": "markdown",
   "metadata": {},
   "source": [
    "Substituting the limits of integration and taking $\\alpha \\ge 0$"
   ]
  },
  {
   "cell_type": "markdown",
   "metadata": {},
   "source": [
    "\\begin{equation}\n",
    "\\frac{\\frac{\\pi}{2} \\left ( \\alpha - 1 \\right )}{\\alpha^{2}-1}= \\frac{\\pi}{2 \\left( \\alpha + 1 \\right ) }\n",
    "\\end{equation}"
   ]
  },
  {
   "cell_type": "markdown",
   "metadata": {},
   "source": [
    "The integral with respect to $\\alpha$, $J$, is"
   ]
  },
  {
   "cell_type": "markdown",
   "metadata": {},
   "source": [
    "\\begin{equation}\n",
    "\\frac{\\pi}{2} \\ln {\\left ( \\alpha +1 \\right ) } + C\n",
    "\\end{equation}"
   ]
  },
  {
   "cell_type": "markdown",
   "metadata": {},
   "source": [
    "If we take $\\alpha=0$, then $J=0$ which implies $C=0$, therefore the final result is"
   ]
  },
  {
   "cell_type": "markdown",
   "metadata": {},
   "source": [
    "\\begin{equation}\n",
    "\\frac{\\pi}{2} \\ln {\\left ( \\alpha +1 \\right ) }\n",
    "\\end{equation}"
   ]
  },
  {
   "cell_type": "markdown",
   "metadata": {},
   "source": [
    "If we let $\\alpha$ approach 1, we get that "
   ]
  },
  {
   "cell_type": "markdown",
   "metadata": {},
   "source": [
    "\\begin{equation}\n",
    "I \\approx \\frac{\\pi}{2} \\ln {2}\n",
    "\\end{equation}"
   ]
  },
  {
   "cell_type": "markdown",
   "metadata": {},
   "source": [
    "### (3)"
   ]
  },
  {
   "cell_type": "markdown",
   "metadata": {},
   "source": [
    "Now this one:"
   ]
  },
  {
   "cell_type": "markdown",
   "metadata": {},
   "source": [
    "\\begin{equation}\n",
    "I= \\int_{0}^{\\infty} \\frac{\\ln {\\left (1+x^{2} \\right ) }}{1+x^{2}} dx\n",
    "\\end{equation}"
   ]
  },
  {
   "cell_type": "markdown",
   "metadata": {},
   "source": [
    "The substitution should also make the transformed integral match the original after the parameter takes on a particular value.  Let's try"
   ]
  },
  {
   "cell_type": "markdown",
   "metadata": {},
   "source": [
    "\\begin{equation}\n",
    "J = \\int_{0}^{\\infty} \\frac{\\ln { \\left [ \\alpha \\left  (1+ x^{2} \\right ) \\right ] }}{1+x^{2}} dx\n",
    "\\end{equation}"
   ]
  },
  {
   "cell_type": "markdown",
   "metadata": {},
   "source": [
    "Then, differentiating with respect to $\\alpha$ yields"
   ]
  },
  {
   "cell_type": "markdown",
   "metadata": {},
   "source": [
    "\\begin{equation}\n",
    "\\frac{dJ}{d\\alpha} = \\int_{0}^{\\infty} \\frac{1}{\\alpha \\left ( 1+x^{2} \\right )} dx\n",
    "\\end{equation}"
   ]
  },
  {
   "cell_type": "markdown",
   "metadata": {},
   "source": [
    "The antiderivative is"
   ]
  },
  {
   "cell_type": "markdown",
   "metadata": {},
   "source": [
    "\\begin{equation}\n",
    "\\frac{\\arctan{x}}{\\alpha}\n",
    "\\end{equation}"
   ]
  },
  {
   "cell_type": "markdown",
   "metadata": {},
   "source": [
    "Applying the limits of integration yields"
   ]
  },
  {
   "cell_type": "markdown",
   "metadata": {},
   "source": [
    "\\begin{equation}\n",
    "\\frac{\\pi}{2\\alpha}\n",
    "\\end{equation}"
   ]
  },
  {
   "cell_type": "markdown",
   "metadata": {},
   "source": [
    "Integrating with respect to $\\alpha$ yields"
   ]
  },
  {
   "cell_type": "markdown",
   "metadata": {},
   "source": [
    "\\begin{equation}\n",
    "J = \\frac{\\pi}{2} \\ln{\\alpha} + C\n",
    "\\end{equation}"
   ]
  },
  {
   "cell_type": "markdown",
   "metadata": {},
   "source": [
    "It doesn't seem like the particular substitution that was made was good, because we cannot determine the constant since there is no obvious value for $\\alpha$ that makes $J$ a finite constant.  We need to try another substitution.  Modifying J to"
   ]
  },
  {
   "cell_type": "markdown",
   "metadata": {},
   "source": [
    "\\begin{equation}\n",
    "J = \\int_{0}^{\\infty} \\frac{\\ln {  \\left  (1+ \\alpha  x^{2} \\right )  }}{1+x^{2}} dx\n",
    "\\end{equation}"
   ]
  },
  {
   "cell_type": "markdown",
   "metadata": {},
   "source": [
    "\\begin{equation}\n",
    "\\frac{dJ}{d\\alpha} = \\int_{0}^{\\infty} \\frac{x^{2}}{{ \\left  (1+ \\alpha  x^{2} \\right ) }\\left ( 1+x^{2} \\right )} dx\n",
    "\\end{equation}"
   ]
  },
  {
   "cell_type": "markdown",
   "metadata": {},
   "source": [
    "Using partial fraction expansion we obtain"
   ]
  },
  {
   "cell_type": "markdown",
   "metadata": {},
   "source": [
    "\\begin{equation}\n",
    "\\frac{x^{2}}{{ \\left  (1+ \\alpha  x^{2} \\right ) }\\left ( 1+x^{2} \\right )} = \\frac{A_{1}x + B_{1}}{\\left  (1+ \\alpha  x^{2} \\right )} + \\frac{A_{2}x + B_{2}}{\\left ( 1+x^{2} \\right )}\n",
    "\\end{equation}"
   ]
  },
  {
   "cell_type": "markdown",
   "metadata": {},
   "source": [
    "This leads to "
   ]
  },
  {
   "cell_type": "markdown",
   "metadata": {},
   "source": [
    "\\begin{equation}\n",
    "\\frac{A_{1}x + B_{1}}{\\left  (1+ \\alpha  x^{2} \\right )} + \\frac{A_{2}x + B_{2}}{\\left ( 1+x^{2} \\right )} = \\frac{A_{1}x + B_{1}+A_{1}x^{3} + B_{1}x^{2} + A_{2}x + B_{2} + \\alpha A_{2}x^{3} + \\alpha B_{2} x^{2} } {{ \\left  (1+ \\alpha  x^{2} \\right ) }\\left ( 1+x^{2} \\right )}\n",
    "\\end{equation}"
   ]
  },
  {
   "cell_type": "markdown",
   "metadata": {},
   "source": [
    "This leads to"
   ]
  },
  {
   "cell_type": "markdown",
   "metadata": {},
   "source": [
    "\\begin{equation}\n",
    "A_{1}=0\n",
    "\\end{equation}\n",
    "\\begin{equation}\n",
    "A_{2}=0\n",
    "\\end{equation}\n",
    "\\begin{equation}\n",
    "B_{1}+B_{2}=0\n",
    "\\end{equation}\n",
    "\\begin{equation}\n",
    "B_{1}+\\alpha B_{2} = 1  \n",
    "\\end{equation}"
   ]
  },
  {
   "cell_type": "markdown",
   "metadata": {},
   "source": [
    "This implies"
   ]
  },
  {
   "cell_type": "markdown",
   "metadata": {},
   "source": [
    "\\begin{equation}\n",
    "B_{1}-\\alpha B_{1} = 1  \n",
    "\\end{equation}\n",
    "\\begin{equation}\n",
    "B_{1} = \\frac{1}{1-\\alpha}  \n",
    "\\end{equation}"
   ]
  },
  {
   "cell_type": "markdown",
   "metadata": {},
   "source": [
    "Then our integral becomes"
   ]
  },
  {
   "cell_type": "markdown",
   "metadata": {},
   "source": [
    "\\begin{equation}\n",
    "\\frac{dJ}{d\\alpha} = \\int_{0}^{\\infty} \\frac{1}{{ \\left  (1- \\alpha \\right ) }\\left ( 1+ \\alpha x^{2} \\right )} dx + \\int_{0}^{\\infty} \\frac{1}{{ \\left  (\\alpha - 1\\right ) }\\left ( 1+x^{2} \\right )} dx\n",
    "\\end{equation}"
   ]
  },
  {
   "cell_type": "markdown",
   "metadata": {},
   "source": [
    "The antiderivative is then"
   ]
  },
  {
   "cell_type": "markdown",
   "metadata": {},
   "source": [
    "\\begin{equation}\n",
    "\\frac{1}{1-\\alpha} \\frac{ \\arctan{\\sqrt{\\alpha}x}} {\\sqrt{\\alpha}} + \\frac{1}{\\alpha-1} \\arctan{x}\n",
    "\\end{equation}"
   ]
  },
  {
   "cell_type": "markdown",
   "metadata": {},
   "source": [
    "Evaluating at the limits of integration we have"
   ]
  },
  {
   "cell_type": "markdown",
   "metadata": {},
   "source": [
    "\\begin{equation}\n",
    "\\frac{\\pi}{2} \\left( \\frac{1}{1-\\alpha} \\frac{ 1} {\\sqrt{\\alpha}} - \\frac{1}{1-\\alpha}  \\right )\n",
    "\\end{equation}"
   ]
  },
  {
   "cell_type": "markdown",
   "metadata": {},
   "source": [
    "\\begin{equation}\n",
    "\\frac{\\pi}{2}  \\frac{1}{\\alpha+\\sqrt{\\alpha}}\n",
    "\\end{equation}"
   ]
  }
 ],
 "metadata": {
  "kernelspec": {
   "display_name": "Python 3",
   "language": "python",
   "name": "python3"
  },
  "language_info": {
   "codemirror_mode": {
    "name": "ipython",
    "version": 3
   },
   "file_extension": ".py",
   "mimetype": "text/x-python",
   "name": "python",
   "nbconvert_exporter": "python",
   "pygments_lexer": "ipython3",
   "version": "3.6.4"
  }
 },
 "nbformat": 4,
 "nbformat_minor": 2
}
