{
 "cells": [
  {
   "cell_type": "markdown",
   "metadata": {},
   "source": [
    "# Special Relativity"
   ]
  },
  {
   "cell_type": "markdown",
   "metadata": {},
   "source": [
    "This notebook will go through some of the basic results of special relativity."
   ]
  },
  {
   "cell_type": "markdown",
   "metadata": {},
   "source": [
    "## Outline\n",
    "1) Lorentz transformation  \n",
    "2) Mass-energy equivalence"
   ]
  },
  {
   "cell_type": "markdown",
   "metadata": {},
   "source": [
    "## 1) Lorentz Transformation\n",
    "The first basic principle is a consequence of the insight by Einstein that the speed of light is the same in all inertial reference frames.  To show what this implies, we can imagine an experiment that includes two reference frames moving relative to each other at a constant velocity with a light flash that occurs when they are aligned at time zero.  The below is a diagram of the situation some time after the light flash."
   ]
  },
  {
   "cell_type": "markdown",
   "metadata": {},
   "source": [
    "![Lorentz.jpg](Lorentz.jpg)"
   ]
  },
  {
   "cell_type": "markdown",
   "metadata": {},
   "source": [
    "For simplicity, we will ignore the vertical separation of the coordinate systems, and just consider the relative horizontal positions."
   ]
  },
  {
   "cell_type": "markdown",
   "metadata": {},
   "source": [
    "We have the two postulates of special relativity from Einstein given as"
   ]
  },
  {
   "cell_type": "markdown",
   "metadata": {},
   "source": [
    "1. The Principle of Relativity:  \n",
    "The laws of physics are the same in all inertial frames of reference.\n",
    "2. The Constancy of Speed of Light in Vacuum:  \n",
    "The speed of light in vacuum has the same value c in all inertial frames of reference."
   ]
  },
  {
   "cell_type": "markdown",
   "metadata": {},
   "source": [
    "We seek to find relationships between the two reference frames, shown in the figure above, under the constraints given by the two postulates."
   ]
  }
 ],
 "metadata": {
  "kernelspec": {
   "display_name": "Python 3",
   "language": "python",
   "name": "python3"
  },
  "language_info": {
   "codemirror_mode": {
    "name": "ipython",
    "version": 3
   },
   "file_extension": ".py",
   "mimetype": "text/x-python",
   "name": "python",
   "nbconvert_exporter": "python",
   "pygments_lexer": "ipython3",
   "version": "3.6.4"
  }
 },
 "nbformat": 4,
 "nbformat_minor": 2
}
