{
 "cells": [
  {
   "cell_type": "markdown",
   "metadata": {},
   "source": [
    "# Quantum Mechanics"
   ]
  },
  {
   "cell_type": "markdown",
   "metadata": {},
   "source": [
    "This notebook will walk through a discussion regarding quantum mechanics, beginning with an introduction of the Hamiltonian formalism of classical mechanics, transitioning to quantum mechanics, and continuing through to quantum electrodynamics.  It is inspired by the set of lectures by Paul Dirac which were captured on YouTube.  The first (1 of 4) can be found here:  https://www.youtube.com/watch?v=vwYs8tTLZ24&t=18s\n"
   ]
  },
  {
   "cell_type": "markdown",
   "metadata": {},
   "source": [
    "### Outline\n",
    "(1) The Hamiltonian Formulation of Classical Mechanics  \n",
    "(2) Transitioning to the Quantum Mechanics  \n",
    "(2a) Bohr  \n",
    "(2b) Schroedinger  \n",
    "(2c) Heisenburg  \n",
    "(2d) Sommerfeld  \n",
    "(2e) Dirac  \n",
    "(3) Quantum Elextrodynamics  \n",
    "(4) Magnetic Monopoles  \n",
    "(5) Drift in physical constants  "
   ]
  },
  {
   "cell_type": "markdown",
   "metadata": {},
   "source": [
    "## (1) The Hamiltonian Formulation of Classical Mechanics\n",
    "This section will develop the Hamiltonian formulation of classical mechanics, which provides a framework for transitioning to quantum mechanics, since there is a close connection between the Poisson Brackets and the quantum mechanical commutator that comes out of the Heisenberg matrix formulation.  This will be expanded on later, but that is the end goal, to show the connection.  This is what Paul Dirac said he did in the first video of the series mentioned in the introduction."
   ]
  },
  {
   "cell_type": "markdown",
   "metadata": {},
   "source": [
    "To begin with, we will do a few examples that start with the Newtonian formulation, then transition to the Legrangian formulation, then finally to the Hamiltonian formulation.  This is the typical development in physics training, and is worth walking through once or twice to get a foundation in the terminology and methods, and develop some experience with the techniques.  Each of the three formulations are equivalent in the sense that they will all produce the same solutions for the dynamical variables in question (such as the position, velocity, accelaration, etc.) but they have some differences in how they represent the underlying physics and the Hamiltonian version is the most efficient formulation that connects to quantum mechanics.  The Newtonian formulation considers forces to be fundamental, whereas the Lagrangian and Hamiltonian versions are based on the energy of the system in question."
   ]
  },
  {
   "cell_type": "markdown",
   "metadata": {},
   "source": [
    "To make things more concrete, let us begin with a familiar mechanical system, the pendulum, shown in the figure below.  This pendulum is idealized (but later we will add additional features to make it more physically realizable and examine how this affects the results).  In particular, we assume that the arm, of length L, is massless, and the axis which the pendulum swings about is frictionless."
   ]
  },
  {
   "cell_type": "markdown",
   "metadata": {},
   "source": [
    " ![Pendulum.jpg](Pendulum.jpg)"
   ]
  },
  {
   "cell_type": "markdown",
   "metadata": {},
   "source": [
    "There are a couple questions we might ask about this pendulum:  (1) what is the period? and (2) what is the tension in the arm L, as a function of the position of the arm or time?"
   ]
  },
  {
   "cell_type": "markdown",
   "metadata": {},
   "source": [
    "To begin with, let us consider Newton's 2nd Law:  $m \\frac{d^{2}\\mathbf{r}}{dt^{2}} = \\mathbf{F}$ where the $\\mathbf{r}$ is the position vector, with components $x$ and $y$, and $F$ is the total force acting on the bob, which consists of gravity $m\\mathbf{g}$ which points in the positive $y$ direction in our figure above, and the tension $\\mathbf{T}$ which acts along the arm L, and is directed from the bob, $m$, to the axis of rotation at the origin.  Thus, we can write $m \\frac{d^{2}\\mathbf{r}}{dt^{2}} = \\mathbf{T}+m\\mathbf{g}$  "
   ]
  },
  {
   "cell_type": "markdown",
   "metadata": {},
   "source": [
    "We have a constraint on the pendulum, which is due to the arm being of fixed length.  This forces a fixed relation between $x$ and $y$ which is determined from the pythogorean formula as $x^2+y^2=L^2$.  We can differentiate both sides of this equation with respect to time and obtain: $ 2x \\frac{dx}{dt} + 2y\\frac{dy}{dt} = 0 $ which simplifies to \n",
    "$ x \\frac{dx}{dt} = - y\\frac{dy}{dt} $.  As a quick sanity check, we can imagine that the pendulum is swinging from left to right, and when $x=0$ (i.e. the pendulum arm is along the vertical $y$ axis), we would expect the velocity in the $y$ direction, $\\frac{dy}{dt}$, to equal zero.  From the equation, we see that this would be the case:  since we know that $y=L$ at this moment, this requires $\\frac{dy}{dt}=0$ in order to make both sides equal to zero."
   ]
  },
  {
   "cell_type": "code",
   "execution_count": null,
   "metadata": {},
   "outputs": [],
   "source": []
  }
 ],
 "metadata": {
  "kernelspec": {
   "display_name": "Python 3",
   "language": "python",
   "name": "python3"
  },
  "language_info": {
   "codemirror_mode": {
    "name": "ipython",
    "version": 3
   },
   "file_extension": ".py",
   "mimetype": "text/x-python",
   "name": "python",
   "nbconvert_exporter": "python",
   "pygments_lexer": "ipython3",
   "version": "3.6.4"
  }
 },
 "nbformat": 4,
 "nbformat_minor": 2
}
