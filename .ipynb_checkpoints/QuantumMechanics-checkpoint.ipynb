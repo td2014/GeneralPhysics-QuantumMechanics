{
 "cells": [
  {
   "cell_type": "markdown",
   "metadata": {},
   "source": [
    "# Quantum Mechanics"
   ]
  },
  {
   "cell_type": "markdown",
   "metadata": {},
   "source": [
    "This notebook will walk through a discussion regarding quantum mechanics, beginning with an introduction of the Hamiltonian formalism of classical mechanics, transitioning to quantum mechanics, and continuing through to quantum electrodynamics.  It is inspired by the set of lectures by Paul Dirac which were captured on YouTube.  The first (1 of 4) can be found here:  https://www.youtube.com/watch?v=vwYs8tTLZ24&t=18s\n"
   ]
  },
  {
   "cell_type": "markdown",
   "metadata": {},
   "source": [
    "### Outline\n",
    "(1) The Hamiltonian Formulation of Classical Mechanics  \n",
    "(2) Transitioning to the Quantum Mechanics  \n",
    "(2a) Bohr  \n",
    "(2b) Schroedinger  \n",
    "(2c) Heisenburg  \n",
    "(2d) Sommerfeld  \n",
    "(2e) Dirac  \n",
    "(3) Quantum Elextrodynamics  \n",
    "(4) Magnetic Monopoles  \n",
    "(5) Drift in physical constants  "
   ]
  },
  {
   "cell_type": "code",
   "execution_count": null,
   "metadata": {},
   "outputs": [],
   "source": []
  }
 ],
 "metadata": {
  "kernelspec": {
   "display_name": "Python 3",
   "language": "python",
   "name": "python3"
  },
  "language_info": {
   "codemirror_mode": {
    "name": "ipython",
    "version": 3
   },
   "file_extension": ".py",
   "mimetype": "text/x-python",
   "name": "python",
   "nbconvert_exporter": "python",
   "pygments_lexer": "ipython3",
   "version": "3.6.4"
  }
 },
 "nbformat": 4,
 "nbformat_minor": 2
}
