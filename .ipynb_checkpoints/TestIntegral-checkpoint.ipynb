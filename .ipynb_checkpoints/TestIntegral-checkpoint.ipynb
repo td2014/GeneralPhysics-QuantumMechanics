{
 "cells": [
  {
   "cell_type": "markdown",
   "metadata": {},
   "source": [
    "\\begin{equation}\n",
    "\\tau = \\int_{s_0}^{s}\\frac{ds}{v(s)}\n",
    "\\end{equation}\n",
    "Putting everything together, starting with\n",
    "\\begin{equation}\n",
    "\\tau = \\int_{s_0}^{s}\\frac{ds}{v(s)}\n",
    "\\end{equation}"
   ]
  },
  {
   "cell_type": "markdown",
   "metadata": {},
   "source": [
    "Now we have\n",
    "\\begin{equation}\n",
    "\\tau = \\int_{s_0}^{s}\\frac{ds}{v(s)}\n",
    "\\end{equation}\n",
    "\\begin{equation}\n",
    "\\tau = \\int_{s_0}^{s}\\frac{ds}{v(s)}\n",
    "\\end{equation}"
   ]
  },
  {
   "cell_type": "markdown",
   "metadata": {},
   "source": [
    "\\begin{equation}\n",
    "\\tau = \\int_{s_0}^{s}\\frac{ds}{v(s)}\n",
    "\\end{equation}\n",
    "\\begin{equation}\n",
    "\\tau = \\int_{s_0}^{s}\\frac{ds}{v(s)}\n",
    "\\end{equation}"
   ]
  }
 ],
 "metadata": {
  "kernelspec": {
   "display_name": "Python 3",
   "language": "python",
   "name": "python3"
  },
  "language_info": {
   "codemirror_mode": {
    "name": "ipython",
    "version": 3
   },
   "file_extension": ".py",
   "mimetype": "text/x-python",
   "name": "python",
   "nbconvert_exporter": "python",
   "pygments_lexer": "ipython3",
   "version": "3.6.4"
  }
 },
 "nbformat": 4,
 "nbformat_minor": 2
}
