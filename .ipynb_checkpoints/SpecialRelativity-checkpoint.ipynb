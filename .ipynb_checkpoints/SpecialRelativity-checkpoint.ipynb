{
 "cells": [
  {
   "cell_type": "markdown",
   "metadata": {},
   "source": [
    "# Special Relativity"
   ]
  },
  {
   "cell_type": "markdown",
   "metadata": {},
   "source": [
    "This notebook will go through some of the basic results of special relativity."
   ]
  },
  {
   "cell_type": "markdown",
   "metadata": {},
   "source": [
    "## Outline\n",
    "1) Lorentz transformation  \n",
    "2) Mass-energy equivalence"
   ]
  },
  {
   "cell_type": "markdown",
   "metadata": {},
   "source": [
    "## 1) Lorentz Transformation\n",
    "The first basic principle is a consequence of the insight by Einstein that the speed of light is the same in all inertial reference frames.  To show what this implies, we can imagine an experiment that includes two reference frames moving relative to each other at a constant velocity with a light flash that occurs when they are aligned at time zero.  The below is a diagram of the situation some time after the light flash."
   ]
  },
  {
   "cell_type": "markdown",
   "metadata": {},
   "source": [
    "![Lorentz.jpg](Lorentz.jpg)"
   ]
  },
  {
   "cell_type": "markdown",
   "metadata": {},
   "source": [
    "For simplicity, we will ignore the vertical separation of the coordinate systems, and just consider the relative horizontal positions."
   ]
  },
  {
   "cell_type": "markdown",
   "metadata": {},
   "source": [
    "We have the two postulates of special relativity from Einstein given as"
   ]
  },
  {
   "cell_type": "markdown",
   "metadata": {},
   "source": [
    "1. The Principle of Relativity:  \n",
    "The laws of physics are the same in all inertial frames of reference.\n",
    "2. The Constancy of Speed of Light in Vacuum:  \n",
    "The speed of light in vacuum has the same value, $c$, in all inertial frames of reference."
   ]
  },
  {
   "cell_type": "markdown",
   "metadata": {},
   "source": [
    "We seek to find relationships between the two reference frames, shown in the figure above, under the constraints given by the two postulates."
   ]
  },
  {
   "cell_type": "markdown",
   "metadata": {},
   "source": [
    "Let's begin with the situation assuming that a regular classical transformation will work.  We consider a general form:"
   ]
  },
  {
   "cell_type": "markdown",
   "metadata": {},
   "source": [
    "\\begin{equation}\n",
    "\\dot{x}^{2}+\\dot{y}^{2}+\\dot{z}^{2}=c^{2}\n",
    "\\end{equation}"
   ]
  },
  {
   "cell_type": "markdown",
   "metadata": {},
   "source": [
    " This equation states the magnitude of the velocity squared of a photon (traveling in an arbitrary direction) is constant and equal to $c^{2}$.  Why did we choose the square of the velocity?  For one thing, the form is correct no matter if the velocity has positive or negative components, so this simplifies things a bit.  Now, let us take the situation as determined in the primed reference frame.  If we had a normal transformation (the usual classical transformation, we could make the following substitution: "
   ]
  },
  {
   "cell_type": "markdown",
   "metadata": {},
   "source": [
    "\\begin{equation}\n",
    "\\left(\\dot{x}^{\\prime}+v_{f}\\right)^{2}+{\\dot{y}^{\\prime}}^{2}+{\\dot{z}^{\\prime}}^{2}=c^{2}\n",
    "\\end{equation}"
   ]
  },
  {
   "cell_type": "markdown",
   "metadata": {},
   "source": [
    "where $v_{f}$ is the velocity of the primed frame relative to the unprimed frame.  Expanding the square we get:"
   ]
  },
  {
   "cell_type": "markdown",
   "metadata": {},
   "source": [
    "\\begin{equation}\n",
    "{\\dot{x}^{\\prime}}^{2} + 2 v_{f} \\dot{x}^{\\prime} + v_{f}^{2} + {\\dot{y}^{\\prime}}^{2} + {\\dot{z}^{\\prime}}^{2}=c^{2}\n",
    "\\end{equation}"
   ]
  },
  {
   "cell_type": "markdown",
   "metadata": {},
   "source": [
    "On rearrangement we obtain"
   ]
  },
  {
   "cell_type": "markdown",
   "metadata": {},
   "source": [
    "\\begin{equation}\n",
    "2 v_{f} \\dot{x}^{\\prime} + v_{f}^{2} + {\\dot{x}^{\\prime}}^{2} +  {\\dot{y}^{\\prime}}^{2} + {\\dot{z}^{\\prime}}^{2}=c^{2}\n",
    "\\end{equation}"
   ]
  },
  {
   "cell_type": "markdown",
   "metadata": {},
   "source": [
    "Now applying Postulate 2 we obtain"
   ]
  },
  {
   "cell_type": "markdown",
   "metadata": {},
   "source": [
    "\\begin{equation}\n",
    "2 v_{f} \\dot{x}^{\\prime} + v_{f}^{2} + c^{2}=c^{2}\n",
    "\\end{equation}"
   ]
  },
  {
   "cell_type": "markdown",
   "metadata": {},
   "source": [
    "This equation can only be satisfied by a single value: $\\dot{x}^{\\prime}= - \\frac{v_{f}}{2}$.  This is not good enough, because we seek solutions for any value of the coordinates.  Therefore, the conclusion is that our classical transformation rules as applied cannot be correct.  However, it is interesting that we have this one solution.  Might be informative to return to it later to see what it implies."
   ]
  },
  {
   "cell_type": "markdown",
   "metadata": {},
   "source": [
    "Let us try to work through this a piece at a time.  Let us explicitly note our assumptions, where we are now using the explicit derivative notation instead of the dots used above:"
   ]
  },
  {
   "cell_type": "markdown",
   "metadata": {},
   "source": [
    "\\begin{equation}\n",
    "{x}^{\\prime}=x-v_{frame}t\n",
    "\\end{equation}\n",
    "\\begin{equation}\n",
    "{y}^{\\prime}=y\n",
    "\\end{equation}\n",
    "\\begin{equation}\n",
    "{z}^{\\prime}=z\n",
    "\\end{equation}\n",
    "\\begin{equation}\n",
    "\\frac{d{x}^{\\prime}}{dt}=\\frac{dx}{dt}-v_{frame}\n",
    "\\end{equation}\n",
    "\\begin{equation}\n",
    "\\frac{d{y}^{\\prime}}{dt}=\\frac{dy}{dt}\n",
    "\\end{equation}\n",
    "\\begin{equation}\n",
    "\\frac{d{z}^{\\prime}}{dt}=\\frac{dz}{dt}\n",
    "\\end{equation}"
   ]
  },
  {
   "cell_type": "markdown",
   "metadata": {},
   "source": [
    "Our interpretation of Postulate 2 suggests that "
   ]
  },
  {
   "cell_type": "markdown",
   "metadata": {},
   "source": [
    "\\begin{equation}\n",
    "{x}^{2}+{y}^{2}+{z}^{2}=c^{2} t^{2}\n",
    "\\end{equation}\n",
    "\\begin{equation}\n",
    "{{x}^{\\prime}}^{2}+{{y}^{\\prime}}^{2}+{{z}^{\\prime}}^{2}=c^{2} t^{2}\n",
    "\\end{equation}"
   ]
  },
  {
   "cell_type": "markdown",
   "metadata": {},
   "source": [
    "Now, as we saw above, this set of assumptions for the coordinates is incompatable with the constraints of Postulate 2.  So, the question is now, can we discover the appropriate coordinate transformations such that we get consistency with Postulate 2."
   ]
  },
  {
   "cell_type": "markdown",
   "metadata": {},
   "source": [
    "Let us make our substitution.  Our equation below is written so that the primed coordinates are the distances relative to the primed frame of reference, but measured in units of the unprimed coordinate reference frame.  One challenge here is to put some meaning to the second postulate.  In particular, how do we define an \"inertial reference frame\" in the sense of the coordinates used to describe it, and then relate that to other inertial reference frames. "
   ]
  },
  {
   "cell_type": "markdown",
   "metadata": {},
   "source": [
    "\\begin{equation}\n",
    "\\left({x}^{\\prime}+v_{f}t\\right)^{2}+{{y}^{\\prime}}^{2}+{{z}^{\\prime}}^{2}=c^{2}t^{2}\n",
    "\\end{equation}"
   ]
  },
  {
   "cell_type": "markdown",
   "metadata": {},
   "source": [
    "We can now consider the situation at a time $\\Delta{t}$ later."
   ]
  },
  {
   "cell_type": "markdown",
   "metadata": {},
   "source": [
    "\\begin{equation}\n",
    "\\left({x}^{\\prime}+\\Delta{x}^{\\prime}+v_{f}\\left(t+\\Delta{t}\\right)\\right)^{2}+{\\left({y}^{\\prime}+\\Delta{y}^{\\prime}\\right)}^{2}+{\\left({z}^{\\prime}+\\Delta{z}^{\\prime}\\right)}^{2}=c^{2}\\left(t+\\Delta{t}\\right)^{2}\n",
    "\\end{equation}"
   ]
  },
  {
   "cell_type": "markdown",
   "metadata": {},
   "source": [
    "Expanding the squared term for ${x}^{\\prime}$ yields"
   ]
  },
  {
   "cell_type": "markdown",
   "metadata": {},
   "source": [
    "\\begin{equation}\n",
    "\\left({x}^{\\prime}+\\Delta{x}^{\\prime}\\right)^{2}+v_{f}^{2}\\left(t+\\Delta{t}\\right)^{2}+\n",
    "2\\left({x}^{\\prime}+\\Delta{x}^{\\prime}\\right)v_{f}\\left(t+\\Delta{t}\\right) +\n",
    "{\\left({y}^{\\prime}+\\Delta{y}^{\\prime}\\right)}^{2}+{\\left({z}^{\\prime}+\\Delta{z}^{\\prime}\\right)}^{2}=c^{2}\\left(t+\\Delta{t}\\right)^{2}\n",
    "\\end{equation}"
   ]
  }
 ],
 "metadata": {
  "kernelspec": {
   "display_name": "Python 3",
   "language": "python",
   "name": "python3"
  },
  "language_info": {
   "codemirror_mode": {
    "name": "ipython",
    "version": 3
   },
   "file_extension": ".py",
   "mimetype": "text/x-python",
   "name": "python",
   "nbconvert_exporter": "python",
   "pygments_lexer": "ipython3",
   "version": "3.6.4"
  }
 },
 "nbformat": 4,
 "nbformat_minor": 2
}
