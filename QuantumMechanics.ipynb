{
 "cells": [
  {
   "cell_type": "markdown",
   "metadata": {},
   "source": [
    "# Quantum Mechanics"
   ]
  },
  {
   "cell_type": "markdown",
   "metadata": {},
   "source": [
    "This notebook will walk through a discussion regarding quantum mechanics, beginning with an introduction of the Hamiltonian formalism of classical mechanics, transitioning to quantum mechanics, and continuing through to quantum electrodynamics.  It is inspired by the set of lectures by Paul Dirac which were captured on YouTube.  The first (1 of 4) can be found here:  https://www.youtube.com/watch?v=vwYs8tTLZ24&t=18s"
   ]
  },
  {
   "cell_type": "markdown",
   "metadata": {},
   "source": [
    "### Outline\n",
    "(1) The Hamiltonian Formulation of Classical Mechanics  \n",
    "(2) Transitioning to the Quantum Mechanics  \n",
    "(2a) Bohr  \n",
    "(2b) Schroedinger  \n",
    "(2c) Heisenburg  \n",
    "(2d) Sommerfeld  \n",
    "(2e) Dirac  \n",
    "(2f) Foch  \n",
    "(3) Quantum Elextrodynamics  \n",
    "(4) Magnetic Monopoles  \n",
    "(5) Drift in physical constants  "
   ]
  },
  {
   "cell_type": "markdown",
   "metadata": {},
   "source": [
    "## (1) The Hamiltonian Formulation of Classical Mechanics\n",
    "This section will develop the Hamiltonian formulation of classical mechanics, which provides a framework for transitioning to quantum mechanics, since there is a close connection between the Poisson Brackets and the quantum mechanical commutator that comes out of the Heisenberg matrix formulation.  This will be expanded on later, but that is the end goal, to show the connection.  This is what Paul Dirac said he did in the first video of the series mentioned in the introduction."
   ]
  },
  {
   "cell_type": "markdown",
   "metadata": {},
   "source": [
    "To begin with, we will do a few examples that start with the Newtonian formulation, then transition to the Legrangian formulation, then finally to the Hamiltonian formulation.  This is the typical development in physics training, and is worth walking through once or twice to get a foundation in the terminology and methods, and develop some experience with the techniques.  Each of the three formulations are equivalent in the sense that they will all produce the same solutions for the dynamical variables in question (such as the position, velocity, accelaration, etc.) but they have some differences in how they represent the underlying physics and the Hamiltonian version is the most efficient formulation that connects to quantum mechanics.  The Newtonian formulation considers forces to be fundamental, whereas the Lagrangian and Hamiltonian versions are based on the energy of the system in question."
   ]
  },
  {
   "cell_type": "markdown",
   "metadata": {},
   "source": [
    "To make things more concrete, let us begin with a familiar mechanical system, the pendulum, shown in the figure below.  This pendulum is idealized (but later we will add additional features to make it more physically realizable and examine how this affects the results).  In particular, we assume that the arm, of length L, is massless, and the axis which the pendulum swings about is frictionless."
   ]
  },
  {
   "cell_type": "markdown",
   "metadata": {},
   "source": [
    " ![Pendulum.jpg](Pendulum.jpg)"
   ]
  },
  {
   "cell_type": "markdown",
   "metadata": {},
   "source": [
    "There are a couple questions we might ask about this pendulum:  (1) what is the period? and (2) what is the tension in the arm L, as a function of the position of the arm or time?"
   ]
  },
  {
   "cell_type": "markdown",
   "metadata": {},
   "source": [
    "To begin with, let us consider Newton's 2nd Law:  $m \\frac{d^{2}\\mathbf{r}}{dt^{2}} = \\mathbf{F}$ where the $\\mathbf{r}$ is the position vector, with components $x$ and $y$, and $F$ is the total force acting on the bob, which consists of gravity $m\\mathbf{g}$ which points in the positive $y$ direction in our figure above, and the tension $\\mathbf{T}$ which acts along the arm L, and is directed from the bob, $m$, to the axis of rotation at the origin.  Thus, we can write $m \\frac{d^{2}\\mathbf{r}}{dt^{2}} = \\mathbf{T}+m\\mathbf{g}$  "
   ]
  },
  {
   "cell_type": "markdown",
   "metadata": {},
   "source": [
    "We have a constraint on the pendulum, which is due to the arm being of fixed length.  This forces a fixed relation between $x$ and $y$ which is determined from the pythogorean formula as $x^2+y^2=L^2$.  We can differentiate both sides of this equation with respect to time and obtain: $ 2x \\frac{dx}{dt} + 2y\\frac{dy}{dt} = 0 $ which simplifies to \n",
    "$ x \\frac{dx}{dt} = - y\\frac{dy}{dt} $.  As a quick sanity check, we can imagine that the pendulum is swinging from left to right, and when $x=0$ (i.e. the pendulum arm is along the vertical $y$ axis), we would expect the velocity in the $y$ direction, $\\frac{dy}{dt}$, to equal zero.  From the equation, we see that this would be the case:  since we know that $y=L$ at this moment, this requires $\\frac{dy}{dt}=0$ in order to make both sides equal to zero."
   ]
  },
  {
   "cell_type": "markdown",
   "metadata": {},
   "source": [
    "Beginning with\n",
    "\\begin{equation}\n",
    "x \\frac{dx}{dt} = - y\\frac{dy}{dt}\n",
    "\\end{equation}\n",
    "we can differentiate both sides and obtain\n",
    "\\begin{equation}\n",
    "x \\frac{d^{2}x}{dt^{2}} +  \\frac{dx}{dt} \\frac{dx}{dt} = - y\\frac{d^{2}y}{dt^{2}} - \\frac{dy}{dt} \\frac{dy}{dt}\n",
    "\\end{equation}\n",
    "which after some rearrangement leads to \n",
    "\\begin{equation}\n",
    "\\left ( \\frac{dx}{dt} \\right)^{2} + \\left( \\frac{dy}{dt} \\right)^{2} = -x \\frac{d^{2}x}{dt^{2}} - y\\frac{d^{2}y}{dt^{2}} \\tag{1}\n",
    "\\end{equation}"
   ]
  },
  {
   "cell_type": "markdown",
   "metadata": {},
   "source": [
    "We can do some kinematic analysis of the above equation.  Let us consider when the left hand side (the total velocity) is zero.  This is the situation when the pendulum is at the top of its arc, just about to start back down.  This means that we have\n",
    "\\begin{equation}\n",
    "x \\frac{d^{2}x}{dt^{2}} =  - y\\frac{d^{2}y}{dt^{2}}\n",
    "\\end{equation}\n",
    "or\n",
    "\\begin{equation}\n",
    "-\\frac{x}{y} =  \\frac{\\frac{d^{2}y}{dt^{2}}}{\\frac{d^{2}x}{dt^{2}}}\n",
    "\\end{equation}"
   ]
  },
  {
   "cell_type": "markdown",
   "metadata": {},
   "source": [
    "The above result tells us that the components of the acceleration vector would be proportional (i.e. in the same direction) to the following vector: $\\left ( -y, x \\right)$.  If we take the inner product with the position vector $\\left( x, y \\right)$ we obtain $-yx + xy=0$.  Therefore, we conclude that the acceleration direction when the velocity is zero, at the top of the arc, is at right angles to the arm, $L$.  Furthermore, the acceleration vector points towards the y-axis.  To see this, take both $x$ and $y$ to be position (as in the figure), then we know that only one of the accelerations can be positive and the other must be negative.  Since we know that the pendulum will be swinging down, this implies the $y$-component of the acceleration must be positive, and thus the $x$-component must then be the negative one."
   ]
  },
  {
   "cell_type": "markdown",
   "metadata": {},
   "source": [
    "Looking back on Equation 1, we can also consider the case where $ \\frac{dy}{dt}=0$ and $x=0$, which is the situation as the pendulum is swinging through the lowest point on the arc.  Since the left hand side is positive (due to the square and the fact that we are asking about the situation when the pendulum is moving), the right side must also be positive.  Since $y=L$ in this case, this indicates that the acceleration $\\frac{d^{2}y}{dt^{2}} < 0$, and thus point towards the rotation axis, that is, towards the negative $y$ direction, or up in the figure above.  This yields the known result of the \"centripetal acceleration\" which has magnitude $\\frac{1}{L} \\left( \\frac{dx}{dt} \\right )^{2} $.  "
   ]
  },
  {
   "cell_type": "markdown",
   "metadata": {},
   "source": [
    "Let us return to the Newton's second law\n",
    "\\begin{equation}\n",
    "m\\frac{d^{2}\\mathbf{r}}{dt^{2}} = \\mathbf{T}+m\\mathbf{g} \\tag{2}\n",
    "\\end{equation}"
   ]
  },
  {
   "cell_type": "markdown",
   "metadata": {},
   "source": [
    "Component-wise we have\n",
    "\\begin{equation}\n",
    "m \\frac{d^{2}x}{dt^{2}}=-T\\frac{x}{L}\n",
    "\\end{equation}\n",
    "\\begin{equation}\n",
    "m \\frac{d^{2}y}{dt^{2}}=-T\\frac{y}{L}+mg\n",
    "\\end{equation}"
   ]
  },
  {
   "cell_type": "markdown",
   "metadata": {},
   "source": [
    "Using the above equations to substitute the accelerations into Equation 1, we obtain\n",
    "\\begin{equation}\n",
    "\\left ( \\frac{dx}{dt} \\right)^{2} + \\left( \\frac{dy}{dt} \\right)^{2} = -x \\left( -T\\frac{x}{mL} \\right)- y \\left( -T\\frac{y}{mL}+g \\right)\n",
    "\\end{equation}\n",
    "This simplifies to\n",
    "\\begin{equation}\n",
    "\\left ( \\frac{dx}{dt} \\right)^{2} + \\left( \\frac{dy}{dt} \\right)^{2} = \\left( T\\frac{x^{2}}{mL} \\right)+ \\left( T\\frac{y^{2}}{mL}\\right) -yg\n",
    "\\end{equation}\n",
    "\\begin{equation}\n",
    "\\left ( \\frac{dx}{dt} \\right)^{2} + \\left( \\frac{dy}{dt} \\right)^{2} = \\left( T\\frac{L}{m} \\right) -yg\n",
    "\\end{equation}"
   ]
  },
  {
   "cell_type": "markdown",
   "metadata": {},
   "source": [
    "Let's take a moment to tally the unknowns in our two main equations (1) & (2).  In equation (1) we have 6 unknowns and in equation (2), we have one additional unknown, the tension, $T$.  We assume that the mass $m$, length $L$, and $g$ are given.  Therefore, we have a total of 7 unknowns.  How many equations do we have?  Equations (1) and (2) provide a total of 3 equations, since equation (2) has two components.  Before we wrote down Equation (1), we started with the equation that related the position of the mass $x^{2}+y^{2}=L^{2}$ and the time derivative of this equation.  This yields two more equations.  We now have 5 equations, so need two more in order to solve the problem.  \n",
    "We have the conservation of total energy as one more equation that we can use.  That leaves us with more more required equation."
   ]
  },
  {
   "cell_type": "markdown",
   "metadata": {},
   "source": [
    "From physical considerations, we know that the pendulum is periodic (it returns back to the starting position after a fixed time, $\\tau$, so any solution will also have to be periodic.  Furthermore, we have the following differential relationship between distance and time:\n",
    "\\begin{equation}\n",
    "ds=vdt\n",
    "\\end{equation}\n",
    "which leads to\n",
    "\\begin{equation}\n",
    "\\tau = \\int_{0}^{s}\\frac{ds}{v(s)}\n",
    "\\end{equation}"
   ]
  },
  {
   "cell_type": "markdown",
   "metadata": {},
   "source": [
    "In our case, because we are moving in a circle, the $ds$ is actually an arclength $Ld\\theta$.  From conservation of total energy, we can determine $v(s)$ and then translate back to $x$ and $y$.  We have that $\\tan \\theta = \\frac{y}{x}$.  This yields\n",
    "\\begin{equation}\n",
    "\\tan \\theta = \\frac{y}{\\sqrt{\\left(L^{2}-y^{2} \\right)}}\n",
    "\\end{equation}\n",
    "which then is\n",
    "\\begin{equation}\n",
    "\\theta = \\arctan {\\frac{y}{\\sqrt{\\left(L^{2}-y^{2} \\right)}} }\n",
    "\\end{equation}"
   ]
  },
  {
   "cell_type": "markdown",
   "metadata": {},
   "source": [
    "Now, taking differentials, and defining \n",
    "$u= \\frac{y}{ \\sqrt{ \\left(L^{2}-y^{2} \\right)}}$ we obtain  \n",
    "\\begin{equation}\n",
    "d\\theta = \\frac{1}{1+u^{2}} \\frac{du}{dy} dy\n",
    "\\end{equation}"
   ]
  },
  {
   "cell_type": "markdown",
   "metadata": {},
   "source": [
    "This leads to\n",
    "\\begin{equation}\n",
    "d\\theta = \\frac{1}{1+\\frac{y^{2}}{L^{2}-y^{2}}} \\frac{du}{dy} dy\n",
    "\\end{equation}"
   ]
  },
  {
   "cell_type": "markdown",
   "metadata": {},
   "source": [
    "Now, by the chain rule we obtain\n",
    "\\begin{equation}\n",
    "\\frac{du}{dy}= \\frac{ \\left( L^{2}-y^{2} \\right )^{\\frac{1}{2}}-y \\frac{1}{2} \\left( L^{2}-y^{2} \\right )^{-\\frac{1}{2}} \\left (-2y \\right)}{L^{2}-y^{2}}\n",
    "\\end{equation}"
   ]
  },
  {
   "cell_type": "markdown",
   "metadata": {},
   "source": [
    "Simplifying, we obtain\n",
    "\\begin{equation}\n",
    "\\frac{du}{dy}= \\frac{ \\left( L^{2}-y^{2} \\right )^{ \\frac{1}{2} }+ y^{2} \\left( L^{2}-y^{2} \\right )^{-\\frac{1}{2}}} {L^{2}-y^{2}}\n",
    "\\end{equation}"
   ]
  },
  {
   "cell_type": "markdown",
   "metadata": {},
   "source": [
    "Then\n",
    "\\begin{equation}\n",
    "\\frac{du}{dy}= \\frac{ 1 + y^{2} \\left( L^{2}-y^{2} \\right )^{-1}} { \\left( L^{2}-y^{2} \\right )^{ \\frac{1}{2} }}\n",
    "\\end{equation}"
   ]
  },
  {
   "cell_type": "markdown",
   "metadata": {},
   "source": [
    "Putting the component calculations together, we obtain\n",
    "\\begin{equation}\n",
    "d\\theta = \\frac{1}{1+\\frac{y^{2}}{L^{2}-y^{2}}} \\frac{ 1 + y^{2} \\left( L^{2}-y^{2} \\right )^{-1}} { \\left( L^{2}-y^{2} \\right )^{ \\frac{1}{2} }} dy\n",
    "\\end{equation}"
   ]
  },
  {
   "cell_type": "markdown",
   "metadata": {},
   "source": [
    "This further simplifies to\n",
    "\\begin{equation}\n",
    "d\\theta = \\frac{1}{\\left( L^{2}-y^{2} \\right )^{\\frac{1}{2}}} dy\n",
    "\\end{equation}"
   ]
  },
  {
   "cell_type": "markdown",
   "metadata": {},
   "source": [
    "Then, we multiply the above expression by $L$ to obtain the differential arclength."
   ]
  },
  {
   "cell_type": "markdown",
   "metadata": {},
   "source": [
    "Now, we need to determine $v(s)$, the velocity as a function of position along the arclength.  We have the following expresssion for the total energy, the sum of the kinetic and potential energy:\n",
    "\\begin{equation}\n",
    "\\frac{1}{2}m v^{2} + mg \\left(L-y \\right) = mg \\left( L-y_{0} \\right ) = E_{0}\n",
    "\\end{equation}\n",
    "where $y_{0}$ is the $y$ component of the initial position of the mass."
   ]
  },
  {
   "cell_type": "markdown",
   "metadata": {},
   "source": [
    "This simplifies to\n",
    "\\begin{equation}\n",
    "v^{2} = 2g \\left ( y-y_{0} \\right )\n",
    "\\end{equation}"
   ]
  },
  {
   "cell_type": "markdown",
   "metadata": {},
   "source": [
    "Putting everything together, we have\n",
    "\\begin{equation}\n",
    "\\tau = \\int_{0}^{s}\\frac{ds}{v(s)} = \\int_{0}^{y}\\frac{Ldy}{\\sqrt {2g \\left ( y-y_{0} \\right )\\left( L^{2}-y^{2} \\right )}}\n",
    "\\end{equation}"
   ]
  }
 ],
 "metadata": {
  "kernelspec": {
   "display_name": "Python 3",
   "language": "python",
   "name": "python3"
  },
  "language_info": {
   "codemirror_mode": {
    "name": "ipython",
    "version": 3
   },
   "file_extension": ".py",
   "mimetype": "text/x-python",
   "name": "python",
   "nbconvert_exporter": "python",
   "pygments_lexer": "ipython3",
   "version": "3.6.4"
  }
 },
 "nbformat": 4,
 "nbformat_minor": 2
}
